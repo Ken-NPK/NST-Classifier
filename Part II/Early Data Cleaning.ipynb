{
 "cells": [
  {
   "cell_type": "markdown",
   "metadata": {},
   "source": [
    "# About\n",
    "\n",
    "This is my attempt for <b>early data cleaning</b> process on the `rawdata.csv` without doing further analysis. "
   ]
  },
  {
   "cell_type": "markdown",
   "metadata": {},
   "source": [
    "Let me start by import pandas library to do the data cleaning process."
   ]
  },
  {
   "cell_type": "code",
   "execution_count": 1,
   "metadata": {},
   "outputs": [],
   "source": [
    "import pandas as pd"
   ]
  },
  {
   "cell_type": "markdown",
   "metadata": {},
   "source": [
    "Process further by loading the `rawdata.csv` and check whether the loading is fined."
   ]
  },
  {
   "cell_type": "code",
   "execution_count": 2,
   "metadata": {},
   "outputs": [
    {
     "data": {
      "text/html": [
       "<div>\n",
       "<style scoped>\n",
       "    .dataframe tbody tr th:only-of-type {\n",
       "        vertical-align: middle;\n",
       "    }\n",
       "\n",
       "    .dataframe tbody tr th {\n",
       "        vertical-align: top;\n",
       "    }\n",
       "\n",
       "    .dataframe thead th {\n",
       "        text-align: right;\n",
       "    }\n",
       "</style>\n",
       "<table border=\"1\" class=\"dataframe\">\n",
       "  <thead>\n",
       "    <tr style=\"text-align: right;\">\n",
       "      <th></th>\n",
       "      <th>Title</th>\n",
       "      <th>Time_Created</th>\n",
       "      <th>Category</th>\n",
       "      <th>Teaser</th>\n",
       "    </tr>\n",
       "  </thead>\n",
       "  <tbody>\n",
       "    <tr>\n",
       "      <th>0</th>\n",
       "      <td>Q and A with senior minister Ismail Sabri</td>\n",
       "      <td>May 7, 2020 @ 9:00am</td>\n",
       "      <td>EXCLUSIVE</td>\n",
       "      <td>KUALA LUMPUR: Datuk Seri Ismail Sabri Yaakob h...</td>\n",
       "    </tr>\n",
       "    <tr>\n",
       "      <th>1</th>\n",
       "      <td>MCO-linked domestic violence rises</td>\n",
       "      <td>Apr 4, 2020 @ 12:01pm</td>\n",
       "      <td>EXCLUSIVE</td>\n",
       "      <td>KUALA LUMPUR: AS the number of people being co...</td>\n",
       "    </tr>\n",
       "    <tr>\n",
       "      <th>2</th>\n",
       "      <td>Victims living a nightmare with no escape</td>\n",
       "      <td>Apr 4, 2020 @ 12:00pm</td>\n",
       "      <td>EXCLUSIVE</td>\n",
       "      <td>KUALA LUMPUR: The Covid-19 pandemic and ensuin...</td>\n",
       "    </tr>\n",
       "    <tr>\n",
       "      <th>3</th>\n",
       "      <td>NST Exclusive: Keeping the memory of MH17 vict...</td>\n",
       "      <td>Mar 8, 2020 @ 11:25am</td>\n",
       "      <td>EXCLUSIVE</td>\n",
       "      <td>AMSTERDAM: On a vast expanse of green not far ...</td>\n",
       "    </tr>\n",
       "    <tr>\n",
       "      <th>4</th>\n",
       "      <td>KL's iconic buildings to get facelift</td>\n",
       "      <td>Feb 3, 2020 @ 12:13pm</td>\n",
       "      <td>EXCLUSIVE</td>\n",
       "      <td>KUALA LUMPUR: The decaying century-old cluster...</td>\n",
       "    </tr>\n",
       "  </tbody>\n",
       "</table>\n",
       "</div>"
      ],
      "text/plain": [
       "                                               Title           Time_Created  \\\n",
       "0          Q and A with senior minister Ismail Sabri   May 7, 2020 @ 9:00am   \n",
       "1                 MCO-linked domestic violence rises  Apr 4, 2020 @ 12:01pm   \n",
       "2          Victims living a nightmare with no escape  Apr 4, 2020 @ 12:00pm   \n",
       "3  NST Exclusive: Keeping the memory of MH17 vict...  Mar 8, 2020 @ 11:25am   \n",
       "4              KL's iconic buildings to get facelift  Feb 3, 2020 @ 12:13pm   \n",
       "\n",
       "    Category                                             Teaser  \n",
       "0  EXCLUSIVE  KUALA LUMPUR: Datuk Seri Ismail Sabri Yaakob h...  \n",
       "1  EXCLUSIVE  KUALA LUMPUR: AS the number of people being co...  \n",
       "2  EXCLUSIVE  KUALA LUMPUR: The Covid-19 pandemic and ensuin...  \n",
       "3  EXCLUSIVE  AMSTERDAM: On a vast expanse of green not far ...  \n",
       "4  EXCLUSIVE  KUALA LUMPUR: The decaying century-old cluster...  "
      ]
     },
     "execution_count": 2,
     "metadata": {},
     "output_type": "execute_result"
    }
   ],
   "source": [
    "data = pd.read_csv(\"../dataset/rawdata.csv\")\n",
    "data.head()"
   ]
  },
  {
   "cell_type": "markdown",
   "metadata": {},
   "source": [
    "I start investigating the data type of the feature."
   ]
  },
  {
   "cell_type": "code",
   "execution_count": 3,
   "metadata": {},
   "outputs": [
    {
     "data": {
      "text/plain": [
       "Title           object\n",
       "Time_Created    object\n",
       "Category        object\n",
       "Teaser          object\n",
       "dtype: object"
      ]
     },
     "execution_count": 3,
     "metadata": {},
     "output_type": "execute_result"
    }
   ],
   "source": [
    "data.dtypes"
   ]
  },
  {
   "cell_type": "markdown",
   "metadata": {},
   "source": [
    "I found out that the feature `Time_Created` is in the form of the <b>string</b>. Therefore, it is neccessary to convert\n",
    "that feature to <b>datetime</b> data type to make sure that I can perform time series analysis in future. "
   ]
  },
  {
   "cell_type": "markdown",
   "metadata": {},
   "source": [
    "## Part I: Checking and Dropping duplicate data"
   ]
  },
  {
   "cell_type": "markdown",
   "metadata": {},
   "source": [
    "Let me have a quick check whether there is any duplicate data."
   ]
  },
  {
   "cell_type": "code",
   "execution_count": 4,
   "metadata": {},
   "outputs": [
    {
     "data": {
      "text/plain": [
       "118"
      ]
     },
     "execution_count": 4,
     "metadata": {},
     "output_type": "execute_result"
    }
   ],
   "source": [
    "sum(data.duplicated())"
   ]
  },
  {
   "cell_type": "markdown",
   "metadata": {},
   "source": [
    "It seem like there are 118 duplicated rows."
   ]
  },
  {
   "cell_type": "markdown",
   "metadata": {},
   "source": [
    "Check what is duplicated index in the raw dataset."
   ]
  },
  {
   "cell_type": "code",
   "execution_count": 5,
   "metadata": {},
   "outputs": [
    {
     "data": {
      "text/plain": [
       "[20,\n",
       " 40,\n",
       " 60,\n",
       " 80,\n",
       " 100,\n",
       " 120,\n",
       " 140,\n",
       " 160,\n",
       " 180,\n",
       " 200,\n",
       " 220,\n",
       " 240,\n",
       " 260,\n",
       " 280,\n",
       " 300,\n",
       " 320,\n",
       " 340,\n",
       " 360,\n",
       " 380,\n",
       " 400,\n",
       " 420,\n",
       " 440,\n",
       " 460,\n",
       " 480,\n",
       " 520,\n",
       " 540,\n",
       " 560,\n",
       " 580,\n",
       " 600,\n",
       " 620,\n",
       " 640,\n",
       " 660,\n",
       " 680,\n",
       " 700,\n",
       " 720,\n",
       " 740,\n",
       " 760,\n",
       " 780,\n",
       " 800,\n",
       " 820,\n",
       " 840,\n",
       " 860,\n",
       " 880,\n",
       " 900,\n",
       " 920,\n",
       " 940,\n",
       " 960,\n",
       " 980,\n",
       " 1020,\n",
       " 1040,\n",
       " 1060,\n",
       " 1080,\n",
       " 1100,\n",
       " 1120,\n",
       " 1140,\n",
       " 1160,\n",
       " 1180,\n",
       " 1200,\n",
       " 1220,\n",
       " 1240,\n",
       " 1260,\n",
       " 1280,\n",
       " 1300,\n",
       " 1320,\n",
       " 1340,\n",
       " 1360,\n",
       " 1380,\n",
       " 1400,\n",
       " 1420,\n",
       " 1440,\n",
       " 1460,\n",
       " 1480,\n",
       " 1520,\n",
       " 1540,\n",
       " 1560,\n",
       " 1580,\n",
       " 1600,\n",
       " 1620,\n",
       " 1640,\n",
       " 1660,\n",
       " 1680,\n",
       " 1700,\n",
       " 1720,\n",
       " 1740,\n",
       " 1760,\n",
       " 1780,\n",
       " 1800,\n",
       " 1820,\n",
       " 1840,\n",
       " 1860,\n",
       " 1880,\n",
       " 1900,\n",
       " 1920,\n",
       " 1940,\n",
       " 1960,\n",
       " 1980,\n",
       " 2020,\n",
       " 2040,\n",
       " 2060,\n",
       " 2080,\n",
       " 2100,\n",
       " 2120,\n",
       " 2140,\n",
       " 2160,\n",
       " 2180,\n",
       " 2200,\n",
       " 2220,\n",
       " 2240,\n",
       " 2260,\n",
       " 2300,\n",
       " 2320,\n",
       " 2340,\n",
       " 2380,\n",
       " 2400,\n",
       " 2420,\n",
       " 2440,\n",
       " 2460,\n",
       " 2480]"
      ]
     },
     "execution_count": 5,
     "metadata": {},
     "output_type": "execute_result"
    }
   ],
   "source": [
    "list(data[data.duplicated()].index)"
   ]
  },
  {
   "cell_type": "markdown",
   "metadata": {},
   "source": [
    "When I go back to the <a href=\"https://www.nst.com.my/\">NST website</a>,\n",
    "I found out that the <b>last element</b> in this <a href=\"https://www.nst.com.my/news/exclusive?page=0\"> page</a> is same as\n",
    "the <b>first element</b> of this <a href=\"https://www.nst.com.my/news/exclusive?page=1\"> page</a>. The web scrapping that I had\n",
    "created do not escape this duplication."
   ]
  },
  {
   "cell_type": "markdown",
   "metadata": {},
   "source": [
    "Keep the first element of every duplicated row, drop the others."
   ]
  },
  {
   "cell_type": "code",
   "execution_count": 6,
   "metadata": {},
   "outputs": [
    {
     "name": "stdout",
     "output_type": "stream",
     "text": [
      "Before:  2500\n",
      "After:  2382\n"
     ]
    }
   ],
   "source": [
    "print(\"Before: \", len(data))\n",
    "data = data.drop_duplicates(keep=\"first\")\n",
    "print(\"After: \", len(data))"
   ]
  },
  {
   "cell_type": "markdown",
   "metadata": {},
   "source": [
    "<b>Part I</b> completed."
   ]
  },
  {
   "cell_type": "markdown",
   "metadata": {},
   "source": [
    "## Part II: Front Part Teaser Cleaning"
   ]
  },
  {
   "cell_type": "code",
   "execution_count": 7,
   "metadata": {},
   "outputs": [
    {
     "data": {
      "text/html": [
       "<div>\n",
       "<style scoped>\n",
       "    .dataframe tbody tr th:only-of-type {\n",
       "        vertical-align: middle;\n",
       "    }\n",
       "\n",
       "    .dataframe tbody tr th {\n",
       "        vertical-align: top;\n",
       "    }\n",
       "\n",
       "    .dataframe thead th {\n",
       "        text-align: right;\n",
       "    }\n",
       "</style>\n",
       "<table border=\"1\" class=\"dataframe\">\n",
       "  <thead>\n",
       "    <tr style=\"text-align: right;\">\n",
       "      <th></th>\n",
       "      <th>Title</th>\n",
       "      <th>Time_Created</th>\n",
       "      <th>Category</th>\n",
       "      <th>Teaser</th>\n",
       "    </tr>\n",
       "  </thead>\n",
       "  <tbody>\n",
       "    <tr>\n",
       "      <th>0</th>\n",
       "      <td>Q and A with senior minister Ismail Sabri</td>\n",
       "      <td>May 7, 2020 @ 9:00am</td>\n",
       "      <td>EXCLUSIVE</td>\n",
       "      <td>KUALA LUMPUR: Datuk Seri Ismail Sabri Yaakob h...</td>\n",
       "    </tr>\n",
       "    <tr>\n",
       "      <th>1</th>\n",
       "      <td>MCO-linked domestic violence rises</td>\n",
       "      <td>Apr 4, 2020 @ 12:01pm</td>\n",
       "      <td>EXCLUSIVE</td>\n",
       "      <td>KUALA LUMPUR: AS the number of people being co...</td>\n",
       "    </tr>\n",
       "    <tr>\n",
       "      <th>2</th>\n",
       "      <td>Victims living a nightmare with no escape</td>\n",
       "      <td>Apr 4, 2020 @ 12:00pm</td>\n",
       "      <td>EXCLUSIVE</td>\n",
       "      <td>KUALA LUMPUR: The Covid-19 pandemic and ensuin...</td>\n",
       "    </tr>\n",
       "    <tr>\n",
       "      <th>3</th>\n",
       "      <td>NST Exclusive: Keeping the memory of MH17 vict...</td>\n",
       "      <td>Mar 8, 2020 @ 11:25am</td>\n",
       "      <td>EXCLUSIVE</td>\n",
       "      <td>AMSTERDAM: On a vast expanse of green not far ...</td>\n",
       "    </tr>\n",
       "    <tr>\n",
       "      <th>4</th>\n",
       "      <td>KL's iconic buildings to get facelift</td>\n",
       "      <td>Feb 3, 2020 @ 12:13pm</td>\n",
       "      <td>EXCLUSIVE</td>\n",
       "      <td>KUALA LUMPUR: The decaying century-old cluster...</td>\n",
       "    </tr>\n",
       "  </tbody>\n",
       "</table>\n",
       "</div>"
      ],
      "text/plain": [
       "                                               Title           Time_Created  \\\n",
       "0          Q and A with senior minister Ismail Sabri   May 7, 2020 @ 9:00am   \n",
       "1                 MCO-linked domestic violence rises  Apr 4, 2020 @ 12:01pm   \n",
       "2          Victims living a nightmare with no escape  Apr 4, 2020 @ 12:00pm   \n",
       "3  NST Exclusive: Keeping the memory of MH17 vict...  Mar 8, 2020 @ 11:25am   \n",
       "4              KL's iconic buildings to get facelift  Feb 3, 2020 @ 12:13pm   \n",
       "\n",
       "    Category                                             Teaser  \n",
       "0  EXCLUSIVE  KUALA LUMPUR: Datuk Seri Ismail Sabri Yaakob h...  \n",
       "1  EXCLUSIVE  KUALA LUMPUR: AS the number of people being co...  \n",
       "2  EXCLUSIVE  KUALA LUMPUR: The Covid-19 pandemic and ensuin...  \n",
       "3  EXCLUSIVE  AMSTERDAM: On a vast expanse of green not far ...  \n",
       "4  EXCLUSIVE  KUALA LUMPUR: The decaying century-old cluster...  "
      ]
     },
     "execution_count": 7,
     "metadata": {},
     "output_type": "execute_result"
    }
   ],
   "source": [
    "data.head()"
   ]
  },
  {
   "cell_type": "markdown",
   "metadata": {},
   "source": [
    "The front part for the most of the teaser starts with the location. Since my project's objective is doing news classification,\n",
    "it is reasonable to clean up the teaser that starts with location. \n",
    "<b>Location should not have any relations to the classification.</b>"
   ]
  },
  {
   "cell_type": "markdown",
   "metadata": {},
   "source": [
    "Initialise a mask for data that contains semicolon `:`."
   ]
  },
  {
   "cell_type": "code",
   "execution_count": 8,
   "metadata": {},
   "outputs": [],
   "source": [
    "contain_semi_colon_mask = data.Teaser.str.contains(\":\") == True"
   ]
  },
  {
   "cell_type": "markdown",
   "metadata": {},
   "source": [
    "Initialise a mask for first element of the data after split with semicolon that contains all upper character \n",
    "(Indicating the location)."
   ]
  },
  {
   "cell_type": "code",
   "execution_count": 9,
   "metadata": {},
   "outputs": [],
   "source": [
    "contain_first_place_mask = data.Teaser.apply(lambda x: str(x).split(\":\")[0]).str.isupper() == True"
   ]
  },
  {
   "cell_type": "markdown",
   "metadata": {},
   "source": [
    "Interception between the two masks clean up the front part of the teaser."
   ]
  },
  {
   "cell_type": "code",
   "execution_count": 10,
   "metadata": {},
   "outputs": [],
   "source": [
    "data.loc[contain_semi_colon_mask & contain_first_place_mask, \"Teaser\"] = data.Teaser.apply(lambda x: \" \".join(str(x).split(\":\")[1 :]))"
   ]
  },
  {
   "cell_type": "code",
   "execution_count": 11,
   "metadata": {},
   "outputs": [
    {
     "data": {
      "text/html": [
       "<div>\n",
       "<style scoped>\n",
       "    .dataframe tbody tr th:only-of-type {\n",
       "        vertical-align: middle;\n",
       "    }\n",
       "\n",
       "    .dataframe tbody tr th {\n",
       "        vertical-align: top;\n",
       "    }\n",
       "\n",
       "    .dataframe thead th {\n",
       "        text-align: right;\n",
       "    }\n",
       "</style>\n",
       "<table border=\"1\" class=\"dataframe\">\n",
       "  <thead>\n",
       "    <tr style=\"text-align: right;\">\n",
       "      <th></th>\n",
       "      <th>Title</th>\n",
       "      <th>Time_Created</th>\n",
       "      <th>Category</th>\n",
       "      <th>Teaser</th>\n",
       "    </tr>\n",
       "  </thead>\n",
       "  <tbody>\n",
       "    <tr>\n",
       "      <th>0</th>\n",
       "      <td>Q and A with senior minister Ismail Sabri</td>\n",
       "      <td>May 7, 2020 @ 9:00am</td>\n",
       "      <td>EXCLUSIVE</td>\n",
       "      <td>Datuk Seri Ismail Sabri Yaakob has been in th...</td>\n",
       "    </tr>\n",
       "    <tr>\n",
       "      <th>1</th>\n",
       "      <td>MCO-linked domestic violence rises</td>\n",
       "      <td>Apr 4, 2020 @ 12:01pm</td>\n",
       "      <td>EXCLUSIVE</td>\n",
       "      <td>AS the number of people being confined to the...</td>\n",
       "    </tr>\n",
       "    <tr>\n",
       "      <th>2</th>\n",
       "      <td>Victims living a nightmare with no escape</td>\n",
       "      <td>Apr 4, 2020 @ 12:00pm</td>\n",
       "      <td>EXCLUSIVE</td>\n",
       "      <td>The Covid-19 pandemic and ensuing Movement Co...</td>\n",
       "    </tr>\n",
       "    <tr>\n",
       "      <th>3</th>\n",
       "      <td>NST Exclusive: Keeping the memory of MH17 vict...</td>\n",
       "      <td>Mar 8, 2020 @ 11:25am</td>\n",
       "      <td>EXCLUSIVE</td>\n",
       "      <td>On a vast expanse of green not far from the A...</td>\n",
       "    </tr>\n",
       "    <tr>\n",
       "      <th>4</th>\n",
       "      <td>KL's iconic buildings to get facelift</td>\n",
       "      <td>Feb 3, 2020 @ 12:13pm</td>\n",
       "      <td>EXCLUSIVE</td>\n",
       "      <td>The decaying century-old cluster of colonial ...</td>\n",
       "    </tr>\n",
       "  </tbody>\n",
       "</table>\n",
       "</div>"
      ],
      "text/plain": [
       "                                               Title           Time_Created  \\\n",
       "0          Q and A with senior minister Ismail Sabri   May 7, 2020 @ 9:00am   \n",
       "1                 MCO-linked domestic violence rises  Apr 4, 2020 @ 12:01pm   \n",
       "2          Victims living a nightmare with no escape  Apr 4, 2020 @ 12:00pm   \n",
       "3  NST Exclusive: Keeping the memory of MH17 vict...  Mar 8, 2020 @ 11:25am   \n",
       "4              KL's iconic buildings to get facelift  Feb 3, 2020 @ 12:13pm   \n",
       "\n",
       "    Category                                             Teaser  \n",
       "0  EXCLUSIVE   Datuk Seri Ismail Sabri Yaakob has been in th...  \n",
       "1  EXCLUSIVE   AS the number of people being confined to the...  \n",
       "2  EXCLUSIVE   The Covid-19 pandemic and ensuing Movement Co...  \n",
       "3  EXCLUSIVE   On a vast expanse of green not far from the A...  \n",
       "4  EXCLUSIVE   The decaying century-old cluster of colonial ...  "
      ]
     },
     "execution_count": 11,
     "metadata": {},
     "output_type": "execute_result"
    }
   ],
   "source": [
    "data.head()"
   ]
  },
  {
   "cell_type": "markdown",
   "metadata": {},
   "source": [
    "<b>Part II</b> completed."
   ]
  },
  {
   "cell_type": "markdown",
   "metadata": {},
   "source": [
    "## Part III: Dropping the Rows that do not Contain Teaser"
   ]
  },
  {
   "cell_type": "markdown",
   "metadata": {},
   "source": [
    "Find out the total number of rows that do not contain teaser `NA`."
   ]
  },
  {
   "cell_type": "code",
   "execution_count": 12,
   "metadata": {},
   "outputs": [
    {
     "data": {
      "text/plain": [
       "30"
      ]
     },
     "execution_count": 12,
     "metadata": {},
     "output_type": "execute_result"
    }
   ],
   "source": [
    "sum(data.Teaser.isna())"
   ]
  },
  {
   "cell_type": "markdown",
   "metadata": {},
   "source": [
    "There are some rows do not contain teaser."
   ]
  },
  {
   "cell_type": "code",
   "execution_count": 13,
   "metadata": {},
   "outputs": [
    {
     "name": "stdout",
     "output_type": "stream",
     "text": [
      "Before dropping Na:  2382\n",
      "After dropping Na:  2352\n"
     ]
    }
   ],
   "source": [
    "print(\"Before dropping Na: \", len(data))\n",
    "data = data.dropna(subset=[\"Teaser\"])\n",
    "print(\"After dropping Na: \", len(data))"
   ]
  },
  {
   "cell_type": "markdown",
   "metadata": {},
   "source": [
    "<b>Part III</b> completed."
   ]
  },
  {
   "cell_type": "markdown",
   "metadata": {},
   "source": [
    "## Part IV: Transform Contractions to Full English Text"
   ]
  },
  {
   "cell_type": "markdown",
   "metadata": {},
   "source": [
    "Initialise the contrations dictionary. I found out \n",
    "this <a href=\"https://stackoverflow.com/questions/19790188/expanding-english-language-contractions-in-python\"> page</a> \n",
    "has most of the contractions that I need to clean up the raw data. "
   ]
  },
  {
   "cell_type": "code",
   "execution_count": 14,
   "metadata": {},
   "outputs": [],
   "source": [
    "contractions = { \n",
    "\"ain't\": \"am not\",\n",
    "\"aren't\": \"are not\",\n",
    "\"can't've\": \"cannot have\",\n",
    "\"can't\": \"cannot\",\n",
    "\"could've\": \"could have\",\n",
    "\"couldn't've\": \"could not have\",\n",
    "\"couldn't\": \"could not\",\n",
    "\"didn't\": \"did not\",\n",
    "\"doesn't\": \"does not\",\n",
    "\"don't\": \"do not\",\n",
    "\"hadn't've\": \"had not have\",\n",
    "\"hadn't\": \"had not\",\n",
    "\"hasn't\": \"has not\",\n",
    "\"haven't\": \"have not\",\n",
    "\"he'd've\": \"he would have\",\n",
    "\"he'd\": \"he had\",\n",
    "\"he'll've\": \"he will have\",\n",
    "\"he'll\": \"he will\",\n",
    "\"he's\": \"he is\",\n",
    "\"how'd\": \"how did\",\n",
    "\"how'd'y\": \"how do you\",\n",
    "\"how'll\": \"how will\",\n",
    "\"how's\": \"how is\",\n",
    "\"I'd've\": \"I would have\",\n",
    "\"I'd\": \"I would\",\n",
    "\"I'll've\": \"I will have\",\n",
    "\"I'll\": \"I will\",\n",
    "\"I'm\": \"I am\",\n",
    "\"I've\": \"I have\",\n",
    "\"isn't\": \"is not\",\n",
    "\"it'd've\": \"it would have\",\n",
    "\"it'd\": \"it would\",\n",
    "\"it'll've\": \"it will have\",\n",
    "\"it'll\": \"it will\",\n",
    "\"it's\": \"it is\",\n",
    "\"let's\": \"let us\",\n",
    "\"ma'am\": \"madam\",\n",
    "\"mayn't\": \"may not\",\n",
    "\"might've\": \"might have\",\n",
    "\"mightn't've\": \"might not have\",\n",
    "\"mightn't\": \"might not\",\n",
    "\"must've\": \"must have\",\n",
    "\"mustn't've\": \"must not have\",\n",
    "\"mustn't\": \"must not\",\n",
    "\"needn't've\": \"need not have\",\n",
    "\"needn't\": \"need not\",\n",
    "\"o'clock\": \"of the clock\",\n",
    "\"oughtn't've\": \"ought not have\",\n",
    "\"oughtn't\": \"ought not\",\n",
    "\"shan't've\": \"shall not have\",\n",
    "\"shan't\": \"shall not\",\n",
    "\"sha'n't\": \"shall not\",\n",
    "\"she'd've\": \"she would have\",\n",
    "\"she'd\": \"she had\",\n",
    "\"she'll've\": \"she will have\",\n",
    "\"she'll\": \"she will\",\n",
    "\"she's\": \"she is\",\n",
    "\"should've\": \"should have\",\n",
    "\"shouldn't've\": \"should not have\",\n",
    "\"shouldn't\": \"should not\",\n",
    "\"so've\": \"so have\",\n",
    "\"so's\": \"so is\",\n",
    "\"that'd've\": \"that would have\",\n",
    "\"that'd\": \"that had\",\n",
    "\"that's\": \"that is\",\n",
    "\"there'd've\": \"there would have\",\n",
    "\"there'd\": \"there would\",\n",
    "\"there's\": \"there is\",\n",
    "\"they'd've\": \"they would have\",\n",
    "\"they'd\": \"they would\",\n",
    "\"they'll've\": \"they will have\",\n",
    "\"they'll\": \"they will\",\n",
    "\"they're\": \"they are\",\n",
    "\"they've\": \"they have\",\n",
    "\"to've\": \"to have\",\n",
    "\"wasn't\": \"was not\",\n",
    "\"we'd've\": \"we would have\",\n",
    "\"we'd\": \"we would\",\n",
    "\"we'll've\": \"we will have\",\n",
    "\"we'll\": \"we will\",\n",
    "\"we're\": \"we are\",\n",
    "\"we've\": \"we have\",\n",
    "\"weren't\": \"were not\",\n",
    "\"what'll've\": \"what will have\",\n",
    "\"what'll\": \"what will\",\n",
    "\"what're\": \"what are\",\n",
    "\"what's\": \"what is\",\n",
    "\"what've\": \"what have\",\n",
    "\"when's\": \"when is\",\n",
    "\"when've\": \"when have\",\n",
    "\"where'd\": \"where did\",\n",
    "\"where's\": \"where is\",\n",
    "\"where've\": \"where have\",\n",
    "\"who'll've\": \"who will have\",\n",
    "\"who'll\": \"who will\",\n",
    "\"who's\": \"who is\",\n",
    "\"who've\": \"who have\",\n",
    "\"why's\": \"why is\",\n",
    "\"why've\": \"why have\",\n",
    "\"will've\": \"will have\",\n",
    "\"won't've\": \"will not have\",\n",
    "\"won't\": \"will not\",\n",
    "\"would've\": \"would have\",\n",
    "\"wouldn't've\": \"would not have\",\n",
    "\"wouldn't\": \"would not\",\n",
    "\"y'all'd've\": \"you all would have\",\n",
    "\"y'all'd\": \"you all would\",\n",
    "\"y'all're\": \"you all are\",\n",
    "\"y'all've\": \"you all have\",\n",
    "\"y'all\": \"you all\",\n",
    "\"you'd've\": \"you would have\",\n",
    "\"you'd\": \"you would\",\n",
    "\"you'll've\": \"you will have\",\n",
    "\"you'll\": \"you will\",\n",
    "\"you're\": \"you are\",\n",
    "\"you've\": \"you have\"\n",
    "}"
   ]
  },
  {
   "cell_type": "markdown",
   "metadata": {},
   "source": [
    "Replace the contractions with the full english text."
   ]
  },
  {
   "cell_type": "code",
   "execution_count": 15,
   "metadata": {},
   "outputs": [],
   "source": [
    "for element in contractions.keys():\n",
    "    data.loc[:, \"Title\"] = data.Title.str.replace(element, contractions[element])\n",
    "    data.loc[:, \"Teaser\"] = data.Teaser.str.replace(element, contractions[element])"
   ]
  },
  {
   "cell_type": "markdown",
   "metadata": {},
   "source": [
    "<b>Part IV</b> completed."
   ]
  },
  {
   "cell_type": "markdown",
   "metadata": {},
   "source": [
    "## Part V: Format the category."
   ]
  },
  {
   "cell_type": "markdown",
   "metadata": {},
   "source": [
    "Find out what is the available news categories."
   ]
  },
  {
   "cell_type": "code",
   "execution_count": 16,
   "metadata": {},
   "outputs": [
    {
     "data": {
      "text/plain": [
       "array(['EXCLUSIVE', 'CRIME & COURTS', 'NATION',\n",
       "       'GOVERNMENT / PUBLIC POLICY', 'POLITICS'], dtype=object)"
      ]
     },
     "execution_count": 16,
     "metadata": {},
     "output_type": "execute_result"
    }
   ],
   "source": [
    "data[\"Category\"].unique()"
   ]
  },
  {
   "cell_type": "markdown",
   "metadata": {},
   "source": [
    "There are 5 categories that all are full capital letter. It's time to clean it up."
   ]
  },
  {
   "cell_type": "code",
   "execution_count": 17,
   "metadata": {},
   "outputs": [],
   "source": [
    "data.loc[data[\"Category\"] == \"EXCLUSIVE\", \"Category\"] = \"Exclusive\"\n",
    "data.loc[data[\"Category\"] == \"CRIME & COURTS\", \"Category\"] = \"Crime and Courts\"\n",
    "data.loc[data[\"Category\"] == \"NATION\", \"Category\"] = \"Nation\"\n",
    "data.loc[data[\"Category\"] == \"GOVERNMENT / PUBLIC POLICY\", \"Category\"] = \"Government or Public Policy\"\n",
    "data.loc[data[\"Category\"] == \"POLITICS\", \"Category\"] = \"Politics\""
   ]
  },
  {
   "cell_type": "markdown",
   "metadata": {},
   "source": [
    "Check whether the cleaning is done correctly."
   ]
  },
  {
   "cell_type": "code",
   "execution_count": 18,
   "metadata": {},
   "outputs": [
    {
     "data": {
      "text/plain": [
       "array(['Exclusive', 'Crime and Courts', 'Nation',\n",
       "       'Government or Public Policy', 'Politics'], dtype=object)"
      ]
     },
     "execution_count": 18,
     "metadata": {},
     "output_type": "execute_result"
    }
   ],
   "source": [
    "data[\"Category\"].unique()"
   ]
  },
  {
   "cell_type": "markdown",
   "metadata": {},
   "source": [
    "<b>Part V</b> completed."
   ]
  },
  {
   "cell_type": "markdown",
   "metadata": {},
   "source": [
    "Exclude the the feature `time_created` and check the head of the dataset."
   ]
  },
  {
   "cell_type": "code",
   "execution_count": 19,
   "metadata": {},
   "outputs": [
    {
     "data": {
      "text/html": [
       "<div>\n",
       "<style scoped>\n",
       "    .dataframe tbody tr th:only-of-type {\n",
       "        vertical-align: middle;\n",
       "    }\n",
       "\n",
       "    .dataframe tbody tr th {\n",
       "        vertical-align: top;\n",
       "    }\n",
       "\n",
       "    .dataframe thead th {\n",
       "        text-align: right;\n",
       "    }\n",
       "</style>\n",
       "<table border=\"1\" class=\"dataframe\">\n",
       "  <thead>\n",
       "    <tr style=\"text-align: right;\">\n",
       "      <th></th>\n",
       "      <th>Title</th>\n",
       "      <th>Category</th>\n",
       "      <th>Teaser</th>\n",
       "    </tr>\n",
       "  </thead>\n",
       "  <tbody>\n",
       "    <tr>\n",
       "      <th>0</th>\n",
       "      <td>Q and A with senior minister Ismail Sabri</td>\n",
       "      <td>Exclusive</td>\n",
       "      <td>Datuk Seri Ismail Sabri Yaakob has been in th...</td>\n",
       "    </tr>\n",
       "    <tr>\n",
       "      <th>1</th>\n",
       "      <td>MCO-linked domestic violence rises</td>\n",
       "      <td>Exclusive</td>\n",
       "      <td>AS the number of people being confined to the...</td>\n",
       "    </tr>\n",
       "    <tr>\n",
       "      <th>2</th>\n",
       "      <td>Victims living a nightmare with no escape</td>\n",
       "      <td>Exclusive</td>\n",
       "      <td>The Covid-19 pandemic and ensuing Movement Co...</td>\n",
       "    </tr>\n",
       "    <tr>\n",
       "      <th>3</th>\n",
       "      <td>NST Exclusive: Keeping the memory of MH17 vict...</td>\n",
       "      <td>Exclusive</td>\n",
       "      <td>On a vast expanse of green not far from the A...</td>\n",
       "    </tr>\n",
       "    <tr>\n",
       "      <th>4</th>\n",
       "      <td>KL's iconic buildings to get facelift</td>\n",
       "      <td>Exclusive</td>\n",
       "      <td>The decaying century-old cluster of colonial ...</td>\n",
       "    </tr>\n",
       "  </tbody>\n",
       "</table>\n",
       "</div>"
      ],
      "text/plain": [
       "                                               Title   Category  \\\n",
       "0          Q and A with senior minister Ismail Sabri  Exclusive   \n",
       "1                 MCO-linked domestic violence rises  Exclusive   \n",
       "2          Victims living a nightmare with no escape  Exclusive   \n",
       "3  NST Exclusive: Keeping the memory of MH17 vict...  Exclusive   \n",
       "4              KL's iconic buildings to get facelift  Exclusive   \n",
       "\n",
       "                                              Teaser  \n",
       "0   Datuk Seri Ismail Sabri Yaakob has been in th...  \n",
       "1   AS the number of people being confined to the...  \n",
       "2   The Covid-19 pandemic and ensuing Movement Co...  \n",
       "3   On a vast expanse of green not far from the A...  \n",
       "4   The decaying century-old cluster of colonial ...  "
      ]
     },
     "execution_count": 19,
     "metadata": {},
     "output_type": "execute_result"
    }
   ],
   "source": [
    "data_without_time = data[[\"Title\", \"Category\", \"Teaser\"]]\n",
    "data_without_time.head()"
   ]
  },
  {
   "cell_type": "markdown",
   "metadata": {},
   "source": [
    "Save the dataset as `early_data_cleaning_without_time.csv` for the eda and further cleaning."
   ]
  },
  {
   "cell_type": "code",
   "execution_count": 20,
   "metadata": {},
   "outputs": [],
   "source": [
    "data_without_time.to_csv(\"../dataset/early_data_cleaning_without_time.csv\", index=False)"
   ]
  },
  {
   "cell_type": "markdown",
   "metadata": {},
   "source": [
    "## Extra:"
   ]
  },
  {
   "cell_type": "markdown",
   "metadata": {},
   "source": [
    "The following part is my attempt to obtain the dataset with time_created feature. "
   ]
  },
  {
   "cell_type": "markdown",
   "metadata": {},
   "source": [
    "## Extra I: Drop the Rows that do not Contain Exact Time"
   ]
  },
  {
   "cell_type": "markdown",
   "metadata": {},
   "source": [
    "Find out the number of rows that contains the word not related to exact time. <br/>\n",
    "<b>E.g.: 5 hours ago</b>"
   ]
  },
  {
   "cell_type": "code",
   "execution_count": 21,
   "metadata": {},
   "outputs": [
    {
     "data": {
      "text/plain": [
       "53"
      ]
     },
     "execution_count": 21,
     "metadata": {},
     "output_type": "execute_result"
    }
   ],
   "source": [
    "sum(data[\"Time_Created\"].apply(lambda x: \"ago\" in x))"
   ]
  },
  {
   "cell_type": "markdown",
   "metadata": {},
   "source": [
    "Drop the rows and check the validity based on the number of rows remaining."
   ]
  },
  {
   "cell_type": "code",
   "execution_count": 22,
   "metadata": {},
   "outputs": [
    {
     "name": "stdout",
     "output_type": "stream",
     "text": [
      "Before dropping using time mask:  2352\n",
      "After dropping using time mask:  2352\n"
     ]
    }
   ],
   "source": [
    "time_masker = data[\"Time_Created\"].apply(lambda x: \"ago\" not in x)\n",
    "print(\"Before dropping using time mask: \", len(data))\n",
    "data_with_time = data[time_masker]\n",
    "print(\"After dropping using time mask: \", len(data))"
   ]
  },
  {
   "cell_type": "markdown",
   "metadata": {},
   "source": [
    "<b>Extra I</b> completed."
   ]
  },
  {
   "cell_type": "markdown",
   "metadata": {},
   "source": [
    "## Extra II: Convert the Feature Time_Created from String to datetime"
   ]
  },
  {
   "cell_type": "markdown",
   "metadata": {},
   "source": [
    "Create a brand new DataFrame and save the appropriate feature based on the splitting result from the feature `Time_Created`."
   ]
  },
  {
   "cell_type": "code",
   "execution_count": 23,
   "metadata": {},
   "outputs": [
    {
     "data": {
      "text/html": [
       "<div>\n",
       "<style scoped>\n",
       "    .dataframe tbody tr th:only-of-type {\n",
       "        vertical-align: middle;\n",
       "    }\n",
       "\n",
       "    .dataframe tbody tr th {\n",
       "        vertical-align: top;\n",
       "    }\n",
       "\n",
       "    .dataframe thead th {\n",
       "        text-align: right;\n",
       "    }\n",
       "</style>\n",
       "<table border=\"1\" class=\"dataframe\">\n",
       "  <thead>\n",
       "    <tr style=\"text-align: right;\">\n",
       "      <th></th>\n",
       "      <th>Time</th>\n",
       "      <th>Day</th>\n",
       "      <th>Month</th>\n",
       "      <th>Year</th>\n",
       "    </tr>\n",
       "  </thead>\n",
       "  <tbody>\n",
       "    <tr>\n",
       "      <th>0</th>\n",
       "      <td>9:00am</td>\n",
       "      <td>7</td>\n",
       "      <td>May</td>\n",
       "      <td>2020</td>\n",
       "    </tr>\n",
       "    <tr>\n",
       "      <th>1</th>\n",
       "      <td>12:01pm</td>\n",
       "      <td>4</td>\n",
       "      <td>Apr</td>\n",
       "      <td>2020</td>\n",
       "    </tr>\n",
       "    <tr>\n",
       "      <th>2</th>\n",
       "      <td>12:00pm</td>\n",
       "      <td>4</td>\n",
       "      <td>Apr</td>\n",
       "      <td>2020</td>\n",
       "    </tr>\n",
       "    <tr>\n",
       "      <th>3</th>\n",
       "      <td>11:25am</td>\n",
       "      <td>8</td>\n",
       "      <td>Mar</td>\n",
       "      <td>2020</td>\n",
       "    </tr>\n",
       "    <tr>\n",
       "      <th>4</th>\n",
       "      <td>12:13pm</td>\n",
       "      <td>3</td>\n",
       "      <td>Feb</td>\n",
       "      <td>2020</td>\n",
       "    </tr>\n",
       "  </tbody>\n",
       "</table>\n",
       "</div>"
      ],
      "text/plain": [
       "      Time Day Month  Year\n",
       "0   9:00am   7   May  2020\n",
       "1  12:01pm   4   Apr  2020\n",
       "2  12:00pm   4   Apr  2020\n",
       "3  11:25am   8   Mar  2020\n",
       "4  12:13pm   3   Feb  2020"
      ]
     },
     "execution_count": 23,
     "metadata": {},
     "output_type": "execute_result"
    }
   ],
   "source": [
    "time = pd.DataFrame()\n",
    "time[\"Time\"] = data_with_time[\"Time_Created\"].apply(lambda x: x.split(\" \")[-1])\n",
    "time['Day'] = data_with_time[\"Time_Created\"].apply(lambda x: x.split(\" \")[1].replace(\",\", \"\"))\n",
    "time['Month'] = data_with_time[\"Time_Created\"].apply(lambda x: x.split(\" \")[0])\n",
    "time[\"Year\"] = data_with_time[\"Time_Created\"].apply(lambda x: x.split(\" \")[2])\n",
    "time.head()"
   ]
  },
  {
   "cell_type": "markdown",
   "metadata": {},
   "source": [
    "Format the `day` and check the results."
   ]
  },
  {
   "cell_type": "code",
   "execution_count": 24,
   "metadata": {},
   "outputs": [
    {
     "data": {
      "text/html": [
       "<div>\n",
       "<style scoped>\n",
       "    .dataframe tbody tr th:only-of-type {\n",
       "        vertical-align: middle;\n",
       "    }\n",
       "\n",
       "    .dataframe tbody tr th {\n",
       "        vertical-align: top;\n",
       "    }\n",
       "\n",
       "    .dataframe thead th {\n",
       "        text-align: right;\n",
       "    }\n",
       "</style>\n",
       "<table border=\"1\" class=\"dataframe\">\n",
       "  <thead>\n",
       "    <tr style=\"text-align: right;\">\n",
       "      <th></th>\n",
       "      <th>Time</th>\n",
       "      <th>Day</th>\n",
       "      <th>Month</th>\n",
       "      <th>Year</th>\n",
       "    </tr>\n",
       "  </thead>\n",
       "  <tbody>\n",
       "    <tr>\n",
       "      <th>2495</th>\n",
       "      <td>2:59pm</td>\n",
       "      <td>26</td>\n",
       "      <td>Oct</td>\n",
       "      <td>2020</td>\n",
       "    </tr>\n",
       "    <tr>\n",
       "      <th>2496</th>\n",
       "      <td>1:29pm</td>\n",
       "      <td>26</td>\n",
       "      <td>Oct</td>\n",
       "      <td>2020</td>\n",
       "    </tr>\n",
       "    <tr>\n",
       "      <th>2497</th>\n",
       "      <td>1:03pm</td>\n",
       "      <td>26</td>\n",
       "      <td>Oct</td>\n",
       "      <td>2020</td>\n",
       "    </tr>\n",
       "    <tr>\n",
       "      <th>2498</th>\n",
       "      <td>12:28pm</td>\n",
       "      <td>26</td>\n",
       "      <td>Oct</td>\n",
       "      <td>2020</td>\n",
       "    </tr>\n",
       "    <tr>\n",
       "      <th>2499</th>\n",
       "      <td>10:11am</td>\n",
       "      <td>26</td>\n",
       "      <td>Oct</td>\n",
       "      <td>2020</td>\n",
       "    </tr>\n",
       "  </tbody>\n",
       "</table>\n",
       "</div>"
      ],
      "text/plain": [
       "         Time Day Month  Year\n",
       "2495   2:59pm  26   Oct  2020\n",
       "2496   1:29pm  26   Oct  2020\n",
       "2497   1:03pm  26   Oct  2020\n",
       "2498  12:28pm  26   Oct  2020\n",
       "2499  10:11am  26   Oct  2020"
      ]
     },
     "execution_count": 24,
     "metadata": {},
     "output_type": "execute_result"
    }
   ],
   "source": [
    "def day_formater(x):\n",
    "    if len(x) == 1:\n",
    "        return str(0) + x\n",
    "    else:\n",
    "        return x\n",
    "\n",
    "time[\"Day\"] = time[\"Day\"].apply(day_formater)\n",
    "time.tail()"
   ]
  },
  {
   "cell_type": "markdown",
   "metadata": {},
   "source": [
    "Format the `month` and check the results."
   ]
  },
  {
   "cell_type": "code",
   "execution_count": 25,
   "metadata": {},
   "outputs": [
    {
     "data": {
      "text/html": [
       "<div>\n",
       "<style scoped>\n",
       "    .dataframe tbody tr th:only-of-type {\n",
       "        vertical-align: middle;\n",
       "    }\n",
       "\n",
       "    .dataframe tbody tr th {\n",
       "        vertical-align: top;\n",
       "    }\n",
       "\n",
       "    .dataframe thead th {\n",
       "        text-align: right;\n",
       "    }\n",
       "</style>\n",
       "<table border=\"1\" class=\"dataframe\">\n",
       "  <thead>\n",
       "    <tr style=\"text-align: right;\">\n",
       "      <th></th>\n",
       "      <th>Time</th>\n",
       "      <th>Day</th>\n",
       "      <th>Month</th>\n",
       "      <th>Year</th>\n",
       "    </tr>\n",
       "  </thead>\n",
       "  <tbody>\n",
       "    <tr>\n",
       "      <th>0</th>\n",
       "      <td>9:00am</td>\n",
       "      <td>07</td>\n",
       "      <td>05</td>\n",
       "      <td>2020</td>\n",
       "    </tr>\n",
       "    <tr>\n",
       "      <th>1</th>\n",
       "      <td>12:01pm</td>\n",
       "      <td>04</td>\n",
       "      <td>04</td>\n",
       "      <td>2020</td>\n",
       "    </tr>\n",
       "    <tr>\n",
       "      <th>2</th>\n",
       "      <td>12:00pm</td>\n",
       "      <td>04</td>\n",
       "      <td>04</td>\n",
       "      <td>2020</td>\n",
       "    </tr>\n",
       "    <tr>\n",
       "      <th>3</th>\n",
       "      <td>11:25am</td>\n",
       "      <td>08</td>\n",
       "      <td>03</td>\n",
       "      <td>2020</td>\n",
       "    </tr>\n",
       "    <tr>\n",
       "      <th>4</th>\n",
       "      <td>12:13pm</td>\n",
       "      <td>03</td>\n",
       "      <td>02</td>\n",
       "      <td>2020</td>\n",
       "    </tr>\n",
       "  </tbody>\n",
       "</table>\n",
       "</div>"
      ],
      "text/plain": [
       "      Time Day Month  Year\n",
       "0   9:00am  07    05  2020\n",
       "1  12:01pm  04    04  2020\n",
       "2  12:00pm  04    04  2020\n",
       "3  11:25am  08    03  2020\n",
       "4  12:13pm  03    02  2020"
      ]
     },
     "execution_count": 25,
     "metadata": {},
     "output_type": "execute_result"
    }
   ],
   "source": [
    "month_dict = {\"Jan\": \"01\", \"Feb\": \"02\", \"Mar\": \"03\", \"Apr\": \"04\", \"May\": \"05\", \"Jun\": \"06\", \"Jul\": \"07\", \"Aug\": \"08\", \"Sep\": \"09\", \"Oct\": \"10\", \"Nov\": \"11\", \"Dec\": \"12\"}\n",
    "\n",
    "for month in month_dict.keys():\n",
    "    time.loc[time[\"Month\"] == month, \"Month\"] = month_dict[month]\n",
    "\n",
    "time.head()"
   ]
  },
  {
   "cell_type": "markdown",
   "metadata": {},
   "source": [
    "Format the `hours/minutes` and check the results."
   ]
  },
  {
   "cell_type": "code",
   "execution_count": 26,
   "metadata": {},
   "outputs": [
    {
     "data": {
      "text/html": [
       "<div>\n",
       "<style scoped>\n",
       "    .dataframe tbody tr th:only-of-type {\n",
       "        vertical-align: middle;\n",
       "    }\n",
       "\n",
       "    .dataframe tbody tr th {\n",
       "        vertical-align: top;\n",
       "    }\n",
       "\n",
       "    .dataframe thead th {\n",
       "        text-align: right;\n",
       "    }\n",
       "</style>\n",
       "<table border=\"1\" class=\"dataframe\">\n",
       "  <thead>\n",
       "    <tr style=\"text-align: right;\">\n",
       "      <th></th>\n",
       "      <th>Time</th>\n",
       "      <th>Day</th>\n",
       "      <th>Month</th>\n",
       "      <th>Year</th>\n",
       "      <th>Hour</th>\n",
       "      <th>Minute</th>\n",
       "    </tr>\n",
       "  </thead>\n",
       "  <tbody>\n",
       "    <tr>\n",
       "      <th>0</th>\n",
       "      <td>9:00am</td>\n",
       "      <td>07</td>\n",
       "      <td>05</td>\n",
       "      <td>2020</td>\n",
       "      <td>09</td>\n",
       "      <td>00</td>\n",
       "    </tr>\n",
       "    <tr>\n",
       "      <th>1</th>\n",
       "      <td>12:01pm</td>\n",
       "      <td>04</td>\n",
       "      <td>04</td>\n",
       "      <td>2020</td>\n",
       "      <td>12</td>\n",
       "      <td>01</td>\n",
       "    </tr>\n",
       "    <tr>\n",
       "      <th>2</th>\n",
       "      <td>12:00pm</td>\n",
       "      <td>04</td>\n",
       "      <td>04</td>\n",
       "      <td>2020</td>\n",
       "      <td>12</td>\n",
       "      <td>00</td>\n",
       "    </tr>\n",
       "    <tr>\n",
       "      <th>3</th>\n",
       "      <td>11:25am</td>\n",
       "      <td>08</td>\n",
       "      <td>03</td>\n",
       "      <td>2020</td>\n",
       "      <td>11</td>\n",
       "      <td>25</td>\n",
       "    </tr>\n",
       "    <tr>\n",
       "      <th>4</th>\n",
       "      <td>12:13pm</td>\n",
       "      <td>03</td>\n",
       "      <td>02</td>\n",
       "      <td>2020</td>\n",
       "      <td>12</td>\n",
       "      <td>13</td>\n",
       "    </tr>\n",
       "  </tbody>\n",
       "</table>\n",
       "</div>"
      ],
      "text/plain": [
       "      Time Day Month  Year Hour Minute\n",
       "0   9:00am  07    05  2020   09     00\n",
       "1  12:01pm  04    04  2020   12     01\n",
       "2  12:00pm  04    04  2020   12     00\n",
       "3  11:25am  08    03  2020   11     25\n",
       "4  12:13pm  03    02  2020   12     13"
      ]
     },
     "execution_count": 26,
     "metadata": {},
     "output_type": "execute_result"
    }
   ],
   "source": [
    "def hour_formater(x):\n",
    "    dirty_time_list = x.split(\":\")\n",
    "    hour = dirty_time_list[0]\n",
    "    if \"am\" in x:\n",
    "        if int(hour) < 10:\n",
    "            return str(0) + hour\n",
    "        else:\n",
    "            return hour\n",
    "    else:\n",
    "        if int(hour) <= 11:\n",
    "            return str(int(hour) + 12)\n",
    "        else:\n",
    "            return hour\n",
    "        \n",
    "time[\"Hour\"] = time[\"Time\"].apply(hour_formater)\n",
    "time[\"Minute\"] = time[\"Time\"].apply(lambda x: x.split(\":\")[1].replace(\"am\", \"\").replace(\"pm\", \"\"))\n",
    "time.head()"
   ]
  },
  {
   "cell_type": "markdown",
   "metadata": {},
   "source": [
    "Creating the final version of the time and check the final result."
   ]
  },
  {
   "cell_type": "code",
   "execution_count": 27,
   "metadata": {},
   "outputs": [
    {
     "data": {
      "text/html": [
       "<div>\n",
       "<style scoped>\n",
       "    .dataframe tbody tr th:only-of-type {\n",
       "        vertical-align: middle;\n",
       "    }\n",
       "\n",
       "    .dataframe tbody tr th {\n",
       "        vertical-align: top;\n",
       "    }\n",
       "\n",
       "    .dataframe thead th {\n",
       "        text-align: right;\n",
       "    }\n",
       "</style>\n",
       "<table border=\"1\" class=\"dataframe\">\n",
       "  <thead>\n",
       "    <tr style=\"text-align: right;\">\n",
       "      <th></th>\n",
       "      <th>Time</th>\n",
       "      <th>Day</th>\n",
       "      <th>Month</th>\n",
       "      <th>Year</th>\n",
       "      <th>Hour</th>\n",
       "      <th>Minute</th>\n",
       "      <th>Final</th>\n",
       "    </tr>\n",
       "  </thead>\n",
       "  <tbody>\n",
       "    <tr>\n",
       "      <th>0</th>\n",
       "      <td>9:00am</td>\n",
       "      <td>07</td>\n",
       "      <td>05</td>\n",
       "      <td>2020</td>\n",
       "      <td>09</td>\n",
       "      <td>00</td>\n",
       "      <td>2020-05-07 09:00</td>\n",
       "    </tr>\n",
       "    <tr>\n",
       "      <th>1</th>\n",
       "      <td>12:01pm</td>\n",
       "      <td>04</td>\n",
       "      <td>04</td>\n",
       "      <td>2020</td>\n",
       "      <td>12</td>\n",
       "      <td>01</td>\n",
       "      <td>2020-04-04 12:01</td>\n",
       "    </tr>\n",
       "    <tr>\n",
       "      <th>2</th>\n",
       "      <td>12:00pm</td>\n",
       "      <td>04</td>\n",
       "      <td>04</td>\n",
       "      <td>2020</td>\n",
       "      <td>12</td>\n",
       "      <td>00</td>\n",
       "      <td>2020-04-04 12:00</td>\n",
       "    </tr>\n",
       "    <tr>\n",
       "      <th>3</th>\n",
       "      <td>11:25am</td>\n",
       "      <td>08</td>\n",
       "      <td>03</td>\n",
       "      <td>2020</td>\n",
       "      <td>11</td>\n",
       "      <td>25</td>\n",
       "      <td>2020-03-08 11:25</td>\n",
       "    </tr>\n",
       "    <tr>\n",
       "      <th>4</th>\n",
       "      <td>12:13pm</td>\n",
       "      <td>03</td>\n",
       "      <td>02</td>\n",
       "      <td>2020</td>\n",
       "      <td>12</td>\n",
       "      <td>13</td>\n",
       "      <td>2020-02-03 12:13</td>\n",
       "    </tr>\n",
       "  </tbody>\n",
       "</table>\n",
       "</div>"
      ],
      "text/plain": [
       "      Time Day Month  Year Hour Minute             Final\n",
       "0   9:00am  07    05  2020   09     00  2020-05-07 09:00\n",
       "1  12:01pm  04    04  2020   12     01  2020-04-04 12:01\n",
       "2  12:00pm  04    04  2020   12     00  2020-04-04 12:00\n",
       "3  11:25am  08    03  2020   11     25  2020-03-08 11:25\n",
       "4  12:13pm  03    02  2020   12     13  2020-02-03 12:13"
      ]
     },
     "execution_count": 27,
     "metadata": {},
     "output_type": "execute_result"
    }
   ],
   "source": [
    "time[\"Final\"] = time[\"Year\"] + \"-\" + time[\"Month\"] + \"-\" + time[\"Day\"] + \" \" + time[\"Hour\"] + \":\" + time[\"Minute\"]\n",
    "time.head()"
   ]
  },
  {
   "cell_type": "markdown",
   "metadata": {},
   "source": [
    "Covert the `string` format to `datetime` format and check the type."
   ]
  },
  {
   "cell_type": "code",
   "execution_count": 28,
   "metadata": {},
   "outputs": [
    {
     "data": {
      "text/plain": [
       "0      2020-05-07 09:00:00\n",
       "1      2020-04-04 12:01:00\n",
       "2      2020-04-04 12:00:00\n",
       "3      2020-03-08 11:25:00\n",
       "4      2020-02-03 12:13:00\n",
       "               ...        \n",
       "2495   2020-10-26 14:59:00\n",
       "2496   2020-10-26 13:29:00\n",
       "2497   2020-10-26 13:03:00\n",
       "2498   2020-10-26 12:28:00\n",
       "2499   2020-10-26 10:11:00\n",
       "Name: Final, Length: 2299, dtype: datetime64[ns]"
      ]
     },
     "execution_count": 28,
     "metadata": {},
     "output_type": "execute_result"
    }
   ],
   "source": [
    "time[\"Final\"] = pd.to_datetime(time[\"Final\"])\n",
    "time[\"Final\"]"
   ]
  },
  {
   "cell_type": "markdown",
   "metadata": {},
   "source": [
    "Assign the final time format to the original `Time_Created` feature."
   ]
  },
  {
   "cell_type": "code",
   "execution_count": 29,
   "metadata": {},
   "outputs": [
    {
     "data": {
      "text/html": [
       "<div>\n",
       "<style scoped>\n",
       "    .dataframe tbody tr th:only-of-type {\n",
       "        vertical-align: middle;\n",
       "    }\n",
       "\n",
       "    .dataframe tbody tr th {\n",
       "        vertical-align: top;\n",
       "    }\n",
       "\n",
       "    .dataframe thead th {\n",
       "        text-align: right;\n",
       "    }\n",
       "</style>\n",
       "<table border=\"1\" class=\"dataframe\">\n",
       "  <thead>\n",
       "    <tr style=\"text-align: right;\">\n",
       "      <th></th>\n",
       "      <th>Title</th>\n",
       "      <th>Time_Created</th>\n",
       "      <th>Category</th>\n",
       "      <th>Teaser</th>\n",
       "    </tr>\n",
       "  </thead>\n",
       "  <tbody>\n",
       "    <tr>\n",
       "      <th>0</th>\n",
       "      <td>Q and A with senior minister Ismail Sabri</td>\n",
       "      <td>2020-05-07 09:00:00</td>\n",
       "      <td>Exclusive</td>\n",
       "      <td>Datuk Seri Ismail Sabri Yaakob has been in th...</td>\n",
       "    </tr>\n",
       "    <tr>\n",
       "      <th>1</th>\n",
       "      <td>MCO-linked domestic violence rises</td>\n",
       "      <td>2020-04-04 12:01:00</td>\n",
       "      <td>Exclusive</td>\n",
       "      <td>AS the number of people being confined to the...</td>\n",
       "    </tr>\n",
       "    <tr>\n",
       "      <th>2</th>\n",
       "      <td>Victims living a nightmare with no escape</td>\n",
       "      <td>2020-04-04 12:00:00</td>\n",
       "      <td>Exclusive</td>\n",
       "      <td>The Covid-19 pandemic and ensuing Movement Co...</td>\n",
       "    </tr>\n",
       "    <tr>\n",
       "      <th>3</th>\n",
       "      <td>NST Exclusive: Keeping the memory of MH17 vict...</td>\n",
       "      <td>2020-03-08 11:25:00</td>\n",
       "      <td>Exclusive</td>\n",
       "      <td>On a vast expanse of green not far from the A...</td>\n",
       "    </tr>\n",
       "    <tr>\n",
       "      <th>4</th>\n",
       "      <td>KL's iconic buildings to get facelift</td>\n",
       "      <td>2020-02-03 12:13:00</td>\n",
       "      <td>Exclusive</td>\n",
       "      <td>The decaying century-old cluster of colonial ...</td>\n",
       "    </tr>\n",
       "  </tbody>\n",
       "</table>\n",
       "</div>"
      ],
      "text/plain": [
       "                                               Title        Time_Created  \\\n",
       "0          Q and A with senior minister Ismail Sabri 2020-05-07 09:00:00   \n",
       "1                 MCO-linked domestic violence rises 2020-04-04 12:01:00   \n",
       "2          Victims living a nightmare with no escape 2020-04-04 12:00:00   \n",
       "3  NST Exclusive: Keeping the memory of MH17 vict... 2020-03-08 11:25:00   \n",
       "4              KL's iconic buildings to get facelift 2020-02-03 12:13:00   \n",
       "\n",
       "    Category                                             Teaser  \n",
       "0  Exclusive   Datuk Seri Ismail Sabri Yaakob has been in th...  \n",
       "1  Exclusive   AS the number of people being confined to the...  \n",
       "2  Exclusive   The Covid-19 pandemic and ensuing Movement Co...  \n",
       "3  Exclusive   On a vast expanse of green not far from the A...  \n",
       "4  Exclusive   The decaying century-old cluster of colonial ...  "
      ]
     },
     "execution_count": 29,
     "metadata": {},
     "output_type": "execute_result"
    }
   ],
   "source": [
    "pd.options.mode.chained_assignment = None\n",
    "data_with_time.loc[:,\"Time_Created\"] = time[\"Final\"]\n",
    "data_with_time.head()"
   ]
  },
  {
   "cell_type": "markdown",
   "metadata": {},
   "source": [
    "<b>Extra II</b> completed."
   ]
  },
  {
   "cell_type": "markdown",
   "metadata": {},
   "source": [
    "Save the dataset as `early_data_cleaning_with_time.csv` for future use."
   ]
  },
  {
   "cell_type": "code",
   "execution_count": 30,
   "metadata": {},
   "outputs": [],
   "source": [
    "data_with_time.to_csv(\"../dataset/early_data_cleaning_with_time.csv\", index=False)"
   ]
  },
  {
   "cell_type": "markdown",
   "metadata": {},
   "source": [
    "<b>Early Data Cleaning</b> process completed"
   ]
  }
 ],
 "metadata": {
  "kernelspec": {
   "display_name": "P3",
   "language": "python",
   "name": "p3"
  },
  "language_info": {
   "codemirror_mode": {
    "name": "ipython",
    "version": 3
   },
   "file_extension": ".py",
   "mimetype": "text/x-python",
   "name": "python",
   "nbconvert_exporter": "python",
   "pygments_lexer": "ipython3",
   "version": "3.9.0"
  }
 },
 "nbformat": 4,
 "nbformat_minor": 4
}
